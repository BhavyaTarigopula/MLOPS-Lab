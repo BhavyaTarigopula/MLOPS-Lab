{
  "nbformat": 4,
  "nbformat_minor": 0,
  "metadata": {
    "colab": {
      "provenance": [],
      "authorship_tag": "ABX9TyNjCMdVbwboLNlVNVPSewp6",
      "include_colab_link": true
    },
    "kernelspec": {
      "name": "python3",
      "display_name": "Python 3"
    },
    "language_info": {
      "name": "python"
    }
  },
  "cells": [
    {
      "cell_type": "markdown",
      "metadata": {
        "id": "view-in-github",
        "colab_type": "text"
      },
      "source": [
        "<a href=\"https://colab.research.google.com/github/BhavyaTarigopula/MLOPS-Lab/blob/main/MLOPS.ipynb\" target=\"_parent\"><img src=\"https://colab.research.google.com/assets/colab-badge.svg\" alt=\"Open In Colab\"/></a>"
      ]
    },
    {
      "cell_type": "markdown",
      "source": [
        "Exp - 1"
      ],
      "metadata": {
        "id": "wSvhtO82Z013"
      }
    },
    {
      "cell_type": "code",
      "execution_count": 1,
      "metadata": {
        "id": "UBQ-hUrCWH7O"
      },
      "outputs": [],
      "source": [
        "def factorial(n):\n",
        "  if type(n) !=int:\n",
        "    return -1\n",
        "  if n<0:\n",
        "    return -1\n",
        "  if n==0:\n",
        "    return 1\n",
        "  return factorial(n-1)*n"
      ]
    },
    {
      "cell_type": "code",
      "source": [
        "def test_factorial():\n",
        "  test_cases = [('hello',-1),(0,1),(1,1),(5,120),(20,2432902008176640000),(-1,-1),(-100,-1),(True,-1)]\n",
        "  passed= True\n",
        "  for inp,exp_out in test_cases:\n",
        "    out=factorial(inp)\n",
        "    if out != exp_out:\n",
        "      print(f\"Test case failed.Input= {inp}, Expected Output = {exp_out}, Output={out}\")\n",
        "      passed = False\n",
        "  if passed:\n",
        "    print(\"All test cases passed\")\n",
        "\n",
        "\n",
        "test_factorial()"
      ],
      "metadata": {
        "colab": {
          "base_uri": "https://localhost:8080/"
        },
        "id": "GsT2r9uHX89N",
        "outputId": "47088698-1775-40ce-c6d4-cd16ba933245"
      },
      "execution_count": 2,
      "outputs": [
        {
          "output_type": "stream",
          "name": "stdout",
          "text": [
            "All test cases passed\n"
          ]
        }
      ]
    }
  ]
}